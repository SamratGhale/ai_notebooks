{
 "cells": [
  {
   "cell_type": "code",
   "execution_count": 7,
   "metadata": {
    "slideshow": {
     "slide_type": "slide"
    }
   },
   "outputs": [],
   "source": [
    "import numpy as np\n",
    "import matplotlib.pyplot as plt\n",
    "\n",
    "from keras.datasets import mnist \n",
    "from keras.models import Sequential, load_model\n",
    "from keras.layers.core import Dense, Dropout, Activation\n",
    "from keras.utils import np_utils"
   ]
  },
  {
   "cell_type": "code",
   "execution_count": 8,
   "metadata": {
    "slideshow": {
     "slide_type": "fragment"
    }
   },
   "outputs": [],
   "source": [
    "#loading data and spliting them into train and test\n",
    "\n",
    "(X_train, y_train), (X_test, y_test) = mnist.load_data()"
   ]
  },
  {
   "cell_type": "code",
   "execution_count": 9,
   "metadata": {
    "slideshow": {
     "slide_type": "slide"
    }
   },
   "outputs": [
    {
     "data": {
      "image/png": "[encoded data removed]",
      "text/plain": [
       "<Figure size 432x288 with 9 Axes>"
      ]
     },
     "metadata": {},
     "output_type": "display_data"
    }
   ],
   "source": [
    "#looking at the data\n",
    "\n",
    "fig = plt.figure()\n",
    "\n",
    "for i in range(9):\n",
    "    plt.subplot(3, 3, i + 1)\n",
    "    plt.tight_layout()\n",
    "    plt.imshow(X_train[i], cmap=\"gray\")\n",
    "    plt.title(f\"Digit: {y_train[i]}\")\n",
    "    plt.xticks([])\n",
    "    plt.yticks([])"
   ]
  },
  {
   "cell_type": "markdown",
   "metadata": {
    "slideshow": {
     "slide_type": "slide"
    }
   },
   "source": [
    "#### Data normalization and resizing\n",
    "#### The pixel values of the data ranges from 0 to 255, most of them are close to 0 or 255.\n",
    "\n",
    "#### By normalizating we will make the values range from 0 to 1 because it helps reduce the speed of training. We can do that by simply dividing each data by 255\n",
    "\n",
    "#### The neural network takes one dimentional array pixels for the first input but in the data we have 2 dimention, so we need to resize the data before trainning \n"
   ]
  },
  {
   "cell_type": "code",
   "execution_count": 10,
   "metadata": {
    "slideshow": {
     "slide_type": "fragment"
    }
   },
   "outputs": [
    {
     "name": "stdout",
     "output_type": "stream",
     "text": [
      "X_train shape (60000, 28, 28)\n",
      "X_test  shape (10000, 28, 28)\n",
      "Y_train shape (60000,)\n",
      "y_test  shape (10000,)\n"
     ]
    }
   ],
   "source": [
    "#shapes of the data before nomalization\n",
    "print(f\"X_train shape {X_train.shape}\")\n",
    "print(f\"X_test  shape {X_test.shape}\")\n",
    "\n",
    "print(f\"Y_train shape {y_train.shape}\")\n",
    "print(f\"y_test  shape {y_test.shape}\")"
   ]
  },
  {
   "cell_type": "markdown",
   "metadata": {
    "slideshow": {
     "slide_type": "slide"
    }
   },
   "source": [
    "#### here 60000 and 10000 represents the number of data in each dataset and 28,28 is the pixel resolution of each image \n",
    "#### To reshape the data we will need to convert the (28,28) sized pixels into (1,784) sized array (28*28=784)"
   ]
  },
  {
   "cell_type": "code",
   "execution_count": 11,
   "metadata": {
    "font size": 50,
    "slideshow": {
     "slide_type": "fragment"
    }
   },
   "outputs": [
    {
     "name": "stdout",
     "output_type": "stream",
     "text": [
      "Train matrix shape (60000, 784)\n",
      "Test  matrix shape (10000, 784)\n"
     ]
    }
   ],
   "source": [
    "#reshaping\n",
    "X_train = X_train.reshape(60000, 784)\n",
    "X_test  = X_test.reshape(10000, 784)\n",
    "\n",
    "\n",
    "#normalizing\n",
    "#casting into float 32 because we are dividing \n",
    "X_train= X_train.astype('float32')\n",
    "X_test  = X_test.astype('float32')\n",
    "X_train /=255\n",
    "X_test  /=255\n",
    "\n",
    "print(\"Train matrix shape\", X_train.shape)\n",
    "print(\"Test  matrix shape\", X_test.shape)"
   ]
  },
  {
   "cell_type": "markdown",
   "metadata": {
    "slideshow": {
     "slide_type": "slide"
    }
   },
   "source": [
    "#### Here the Y still holds still holds integer values from 0 to 9, \n",
    "#### Which makes it difficult to calculate the losses for the model\n",
    "#### So we use one hot encoding to convert each y value to an array of length 10 in which the index of it's value is set to one and others are set to zero"
   ]
  },
  {
   "cell_type": "code",
   "execution_count": 12,
   "metadata": {
    "slideshow": {
     "slide_type": "fragment"
    }
   },
   "outputs": [
    {
     "name": "stdout",
     "output_type": "stream",
     "text": [
      "(array([0, 1, 2, 3, 4, 5, 6, 7, 8, 9], dtype=uint8), array([5923, 6742, 5958, 6131, 5842, 5421, 5918, 6265, 5851, 5949]))\n"
     ]
    }
   ],
   "source": [
    "print(np.unique(y_train, return_counts=True))"
   ]
  },
  {
   "cell_type": "code",
   "execution_count": 13,
   "metadata": {
    "slideshow": {
     "slide_type": "fragment"
    }
   },
   "outputs": [
    {
     "name": "stdout",
     "output_type": "stream",
     "text": [
      "Shape before one hot encoding: (60000,)\n",
      "Shape after one hot encoding (60000, 10)\n"
     ]
    }
   ],
   "source": [
    "n_classes = 10\n",
    "print(f\"Shape before one hot encoding: {y_train.shape}\")\n",
    "y_train = np_utils.to_categorical(y_train, n_classes)\n",
    "y_test  = np_utils.to_categorical(y_test, n_classes)\n",
    "print(f\"Shape after one hot encoding {y_train.shape}\")"
   ]
  },
  {
   "cell_type": "code",
   "execution_count": 14,
   "metadata": {
    "slideshow": {
     "slide_type": "slide"
    }
   },
   "outputs": [
    {
     "name": "stderr",
     "output_type": "stream",
     "text": [
      "2022-01-26 00:01:52.999595: I tensorflow/stream_executor/cuda/cuda_gpu_executor.cc:939] successful NUMA node read from SysFS had negative value (-1), but there must be at least one NUMA node, so returning NUMA node zero\n",
      "2022-01-26 00:01:52.999985: W tensorflow/stream_executor/platform/default/dso_loader.cc:64] Could not load dynamic library 'libcudart.so.11.0'; dlerror: libcudart.so.11.0: cannot open shared object file: No such file or directory\n",
      "2022-01-26 00:01:53.000034: W tensorflow/stream_executor/platform/default/dso_loader.cc:64] Could not load dynamic library 'libcublas.so.11'; dlerror: libcublas.so.11: cannot open shared object file: No such file or directory\n",
      "2022-01-26 00:01:53.000076: W tensorflow/stream_executor/platform/default/dso_loader.cc:64] Could not load dynamic library 'libcublasLt.so.11'; dlerror: libcublasLt.so.11: cannot open shared object file: No such file or directory\n",
      "2022-01-26 00:01:53.000116: W tensorflow/stream_executor/platform/default/dso_loader.cc:64] Could not load dynamic library 'libcufft.so.10'; dlerror: libcufft.so.10: cannot open shared object file: No such file or directory\n",
      "2022-01-26 00:01:53.000158: W tensorflow/stream_executor/platform/default/dso_loader.cc:64] Could not load dynamic library 'libcurand.so.10'; dlerror: libcurand.so.10: cannot open shared object file: No such file or directory\n",
      "2022-01-26 00:01:53.000197: W tensorflow/stream_executor/platform/default/dso_loader.cc:64] Could not load dynamic library 'libcusolver.so.11'; dlerror: libcusolver.so.11: cannot open shared object file: No such file or directory\n",
      "2022-01-26 00:01:53.000235: W tensorflow/stream_executor/platform/default/dso_loader.cc:64] Could not load dynamic library 'libcusparse.so.11'; dlerror: libcusparse.so.11: cannot open shared object file: No such file or directory\n",
      "2022-01-26 00:01:53.000276: W tensorflow/stream_executor/platform/default/dso_loader.cc:64] Could not load dynamic library 'libcudnn.so.8'; dlerror: libcudnn.so.8: cannot open shared object file: No such file or directory\n",
      "2022-01-26 00:01:53.000285: W tensorflow/core/common_runtime/gpu/gpu_device.cc:1850] Cannot dlopen some GPU libraries. Please make sure the missing libraries mentioned above are installed properly if you would like to use GPU. Follow the guide at https://www.tensorflow.org/install/gpu for how to download and setup the required libraries for your platform.\n",
      "Skipping registering GPU devices...\n",
      "2022-01-26 00:01:53.000577: I tensorflow/core/platform/cpu_feature_guard.cc:151] This TensorFlow binary is optimized with oneAPI Deep Neural Network Library (oneDNN) to use the following CPU instructions in performance-critical operations:  AVX2 FMA\n",
      "To enable them in other operations, rebuild TensorFlow with the appropriate compiler flags.\n"
     ]
    }
   ],
   "source": [
    "#building the network\n",
    "\n",
    "model = Sequential()\n",
    "model.add(Dense(512, input_shape =(784,))) #first layers\n",
    "model.add(Activation('relu'))\n",
    "model.add(Dropout(0.2)) #dropout randomly sets input unit by 0 to preventing overfitting, here 20% of input\n",
    "\n",
    "model.add(Dense(512))\n",
    "model.add(Activation('relu'))\n",
    "model.add(Dropout(0.2))\n",
    "\n",
    "model.add(Dense(10))\n",
    "model.add(Activation('softmax'))\n",
    "\n"
   ]
  },
  {
   "cell_type": "markdown",
   "metadata": {
    "slideshow": {
     "slide_type": "slide"
    }
   },
   "source": [
    "## compiling the model\n",
    "#### we specify optimizer and loss function \n",
    "\n",
    "#### loss functions calculate how much the model is incorrect.\n",
    "#### optimizer is the function that is responsible for back propagation.\n",
    "#### Adam's optimizer involves a combination of two gradient decent methodologies.\n",
    "\n"
   ]
  },
  {
   "cell_type": "code",
   "execution_count": 15,
   "metadata": {
    "slideshow": {
     "slide_type": "fragment"
    }
   },
   "outputs": [],
   "source": [
    "model.compile(loss='categorical_crossentropy', metrics=['accuracy'],optimizer='adam')"
   ]
  },
  {
   "cell_type": "code",
   "execution_count": 11,
   "metadata": {
    "slideshow": {
     "slide_type": "slide"
    }
   },
   "outputs": [
    {
     "name": "stdout",
     "output_type": "stream",
     "text": [
      "Epoch 1/20\n",
      "469/469 - 2s - loss: 0.2527 - accuracy: 0.9240 - val_loss: 0.1126 - val_accuracy: 0.9651 - 2s/epoch - 4ms/step\n",
      "Epoch 2/20\n",
      "469/469 - 2s - loss: 0.1008 - accuracy: 0.9686 - val_loss: 0.0769 - val_accuracy: 0.9762 - 2s/epoch - 3ms/step\n",
      "Epoch 3/20\n",
      "469/469 - 2s - loss: 0.0711 - accuracy: 0.9778 - val_loss: 0.0676 - val_accuracy: 0.9798 - 2s/epoch - 3ms/step\n",
      "Epoch 4/20\n",
      "469/469 - 2s - loss: 0.0564 - accuracy: 0.9815 - val_loss: 0.0717 - val_accuracy: 0.9782 - 2s/epoch - 3ms/step\n",
      "Epoch 5/20\n",
      "469/469 - 2s - loss: 0.0462 - accuracy: 0.9853 - val_loss: 0.0614 - val_accuracy: 0.9799 - 2s/epoch - 4ms/step\n",
      "Epoch 6/20\n",
      "469/469 - 2s - loss: 0.0409 - accuracy: 0.9868 - val_loss: 0.0627 - val_accuracy: 0.9807 - 2s/epoch - 4ms/step\n",
      "Epoch 7/20\n",
      "469/469 - 2s - loss: 0.0346 - accuracy: 0.9884 - val_loss: 0.0646 - val_accuracy: 0.9811 - 2s/epoch - 3ms/step\n",
      "Epoch 8/20\n",
      "469/469 - 2s - loss: 0.0284 - accuracy: 0.9907 - val_loss: 0.0697 - val_accuracy: 0.9809 - 2s/epoch - 3ms/step\n",
      "Epoch 9/20\n",
      "469/469 - 2s - loss: 0.0281 - accuracy: 0.9909 - val_loss: 0.0844 - val_accuracy: 0.9781 - 2s/epoch - 3ms/step\n",
      "Epoch 10/20\n",
      "469/469 - 2s - loss: 0.0250 - accuracy: 0.9913 - val_loss: 0.0683 - val_accuracy: 0.9814 - 2s/epoch - 3ms/step\n",
      "Epoch 11/20\n",
      "469/469 - 2s - loss: 0.0243 - accuracy: 0.9920 - val_loss: 0.0622 - val_accuracy: 0.9830 - 2s/epoch - 3ms/step\n",
      "Epoch 12/20\n",
      "469/469 - 2s - loss: 0.0205 - accuracy: 0.9934 - val_loss: 0.0649 - val_accuracy: 0.9830 - 2s/epoch - 3ms/step\n",
      "Epoch 13/20\n",
      "469/469 - 2s - loss: 0.0206 - accuracy: 0.9929 - val_loss: 0.0756 - val_accuracy: 0.9817 - 2s/epoch - 3ms/step\n",
      "Epoch 14/20\n",
      "469/469 - 2s - loss: 0.0184 - accuracy: 0.9936 - val_loss: 0.0815 - val_accuracy: 0.9814 - 2s/epoch - 3ms/step\n",
      "Epoch 15/20\n",
      "469/469 - 2s - loss: 0.0206 - accuracy: 0.9932 - val_loss: 0.0670 - val_accuracy: 0.9841 - 2s/epoch - 4ms/step\n",
      "Epoch 16/20\n",
      "469/469 - 2s - loss: 0.0191 - accuracy: 0.9936 - val_loss: 0.0816 - val_accuracy: 0.9809 - 2s/epoch - 4ms/step\n",
      "Epoch 17/20\n",
      "469/469 - 2s - loss: 0.0170 - accuracy: 0.9944 - val_loss: 0.0691 - val_accuracy: 0.9846 - 2s/epoch - 4ms/step\n",
      "Epoch 18/20\n",
      "469/469 - 2s - loss: 0.0146 - accuracy: 0.9954 - val_loss: 0.0656 - val_accuracy: 0.9840 - 2s/epoch - 3ms/step\n",
      "Epoch 19/20\n",
      "469/469 - 2s - loss: 0.0160 - accuracy: 0.9949 - val_loss: 0.0721 - val_accuracy: 0.9822 - 2s/epoch - 3ms/step\n",
      "Epoch 20/20\n",
      "469/469 - 2s - loss: 0.0146 - accuracy: 0.9952 - val_loss: 0.0890 - val_accuracy: 0.9819 - 2s/epoch - 4ms/step\n"
     ]
    },
    {
     "data": {
      "text/plain": [
       "'\\nsave_dir = \\'/results/\\'\\nmodel_name = \\'keras_mnist.h5\\'\\nmodel_path = os.path.join(save_dir, model_name)\\nmodel.save(model_path)\\nprint(f\"Saved the trainned model at {model_path}\")\\n'"
      ]
     },
     "execution_count": 11,
     "metadata": {},
     "output_type": "execute_result"
    }
   ],
   "source": [
    "import os\n",
    "#training the model and saving metrics in history\n",
    "history = model.fit(X_train, y_train, batch_size=128, epochs = 20, verbose=2, validation_data=(X_test, y_test))\n",
    "\n",
    "#saving the model\n",
    "\"\"\"\n",
    "save_dir = '/results/'\n",
    "model_name = 'keras_mnist.h5'\n",
    "model_path = os.path.join(save_dir, model_name)\n",
    "model.save(model_path)\n",
    "print(f\"Saved the trainned model at {model_path}\")\n",
    "\"\"\"\n",
    "\n"
   ]
  },
  {
   "cell_type": "code",
   "execution_count": 12,
   "metadata": {
    "slideshow": {
     "slide_type": "slide"
    }
   },
   "outputs": [
    {
     "data": {
      "image/png": "[encoded data removed]",
      "text/plain": [
       "<Figure size 432x288 with 2 Axes>"
      ]
     },
     "metadata": {
      "needs_background": "light"
     },
     "output_type": "display_data"
    }
   ],
   "source": [
    "fig = plt.figure()\n",
    "plt.subplot(2, 1, 1)\n",
    "plt.plot(history.history['accuracy'])\n",
    "plt.plot(history.history['val_accuracy'])\n",
    "plt.title('Model accuracy')\n",
    "plt.ylabel('accuracy')\n",
    "plt.xlabel('epoch')\n",
    "plt.legend(['train','test'], loc='lower right')\n",
    "\n",
    "plt.subplot(2, 1, 2)\n",
    "plt.plot(history.history['loss'])\n",
    "plt.plot(history.history['val_loss'])\n",
    "plt.title('Model loss')\n",
    "plt.ylabel('loss')\n",
    "plt.xlabel('epoch')\n",
    "plt.legend(['train','test'], loc='upper right')\n",
    "plt.tight_layout()"
   ]
  },
  {
   "cell_type": "code",
   "execution_count": 13,
   "metadata": {
    "slideshow": {
     "slide_type": "slide"
    }
   },
   "outputs": [
    {
     "name": "stdout",
     "output_type": "stream",
     "text": [
      "Predicted number 7\n"
     ]
    },
    {
     "data": {
      "text/plain": [
       "<matplotlib.image.AxesImage at 0x7f8040267cd0>"
      ]
     },
     "execution_count": 13,
     "metadata": {},
     "output_type": "execute_result"
    },
    {
     "data": {
      "image/png": "[encoded data removed]",
      "text/plain": [
       "<Figure size 432x288 with 1 Axes>"
      ]
     },
     "metadata": {
      "needs_background": "light"
     },
     "output_type": "display_data"
    }
   ],
   "source": [
    "index = 101\n",
    "pred = np.argmax(model.predict(X_train[index].reshape(1,784)))\n",
    "print(f\"Predicted number {pred}\")\n",
    "plt.imshow(X_train[index].reshape(28,28))"
   ]
  },
  {
   "cell_type": "code",
   "execution_count": 14,
   "metadata": {
    "slideshow": {
     "slide_type": "fragment"
    }
   },
   "outputs": [
    {
     "data": {
      "image/png": "[encoded data removed]",
      "text/plain": [
       "<Figure size 432x288 with 9 Axes>"
      ]
     },
     "metadata": {},
     "output_type": "display_data"
    }
   ],
   "source": [
    "fig = plt.figure()\n",
    "\n",
    "for i in range(9):\n",
    "    pred = np.argmax(model.predict(X_train[i].reshape(1,784)))\n",
    "    plt.subplot(3, 3, i + 1)\n",
    "    plt.tight_layout()\n",
    "    plt.imshow(X_train[i].reshape(28 ,28), cmap=\"gray\")\n",
    "    plt.title(f\"Predicted : {pred}\")\n",
    "    plt.xticks([])\n",
    "    plt.yticks([])"
   ]
  }
 ],
 "metadata": {
  "celltoolbar": "Slideshow",
  "interpreter": {
   "hash": "e7370f93d1d0cde622a1f8e1c04877d8463912d04d973331ad4851f04de6915a"
  },
  "kernelspec": {
   "display_name": "Python 3 (ipykernel)",
   "language": "python",
   "name": "python3"
  },
  "language_info": {
   "codemirror_mode": {
    "name": "ipython",
    "version": 3
   },
   "file_extension": ".py",
   "mimetype": "text/x-python",
   "name": "python",
   "nbconvert_exporter": "python",
   "pygments_lexer": "ipython3",
   "version": "3.9.7"
  },
  "rise": {
   "leap_motion": "none",
   "transition": "zoom"
  }
 },
 "nbformat": 4,
 "nbformat_minor": 4
}
